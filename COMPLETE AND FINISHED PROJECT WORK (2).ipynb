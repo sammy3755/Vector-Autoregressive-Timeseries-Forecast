{
 "cells": [
  {
   "cell_type": "code",
   "execution_count": 1,
   "metadata": {
    "colab": {
     "base_uri": "https://localhost:8080/"
    },
    "id": "L9dRysEGJA7x",
    "outputId": "fc2f858f-e25c-4f1f-fde1-10634537d296"
   },
   "outputs": [
    {
     "name": "stderr",
     "output_type": "stream",
     "text": [
      "/usr/local/lib/python3.7/dist-packages/statsmodels/tools/_testing.py:19: FutureWarning: pandas.util.testing is deprecated. Use the functions in the public API at pandas.testing instead.\n",
      "  import pandas.util.testing as tm\n"
     ]
    }
   ],
   "source": [
    "from statsmodels.graphics.tsaplots import plot_acf, plot_pacf\n",
    "from statsmodels.tsa.statespace.varmax import VARMAX\n",
    "from statsmodels.tsa.api import VAR\n",
    "from statsmodels.tsa.stattools import grangercausalitytests, adfuller\n",
    "from tqdm import tqdm_notebook\n",
    "from itertools import product\n",
    "\n",
    "import statsmodels.tsa.stattools as ts\n",
    "import matplotlib.pyplot as plt\n",
    "import statsmodels.api as sm\n",
    "import pandas as pd\n",
    "import numpy as np\n",
    "import math\n",
    "\n",
    "import warnings\n",
    "warnings.filterwarnings('ignore')\n"
   ]
  },
  {
   "cell_type": "code",
   "execution_count": 117,
   "metadata": {
    "colab": {
     "base_uri": "https://localhost:8080/",
     "height": 467
    },
    "id": "ijAhn9bDXiv7",
    "outputId": "e75193f6-f11e-436a-8647-869c42ff2ef6"
   },
   "outputs": [
    {
     "name": "stdout",
     "output_type": "stream",
     "text": [
      "(84, 2)\n"
     ]
    },
    {
     "data": {
      "text/html": [
       "<div>\n",
       "<style scoped>\n",
       "    .dataframe tbody tr th:only-of-type {\n",
       "        vertical-align: middle;\n",
       "    }\n",
       "\n",
       "    .dataframe tbody tr th {\n",
       "        vertical-align: top;\n",
       "    }\n",
       "\n",
       "    .dataframe thead th {\n",
       "        text-align: right;\n",
       "    }\n",
       "</style>\n",
       "<table border=\"1\" class=\"dataframe\">\n",
       "  <thead>\n",
       "    <tr style=\"text-align: right;\">\n",
       "      <th></th>\n",
       "      <th>EXCHANGE RATE</th>\n",
       "      <th>INTEREST RATE</th>\n",
       "    </tr>\n",
       "    <tr>\n",
       "      <th>DATE</th>\n",
       "      <th></th>\n",
       "      <th></th>\n",
       "    </tr>\n",
       "  </thead>\n",
       "  <tbody>\n",
       "    <tr>\n",
       "      <th>2013-01-01</th>\n",
       "      <td>157.20</td>\n",
       "      <td>12.0</td>\n",
       "    </tr>\n",
       "    <tr>\n",
       "      <th>2013-02-01</th>\n",
       "      <td>158.60</td>\n",
       "      <td>12.0</td>\n",
       "    </tr>\n",
       "    <tr>\n",
       "      <th>2013-03-01</th>\n",
       "      <td>158.63</td>\n",
       "      <td>12.0</td>\n",
       "    </tr>\n",
       "    <tr>\n",
       "      <th>2013-04-01</th>\n",
       "      <td>157.90</td>\n",
       "      <td>12.0</td>\n",
       "    </tr>\n",
       "    <tr>\n",
       "      <th>2013-05-01</th>\n",
       "      <td>158.10</td>\n",
       "      <td>12.0</td>\n",
       "    </tr>\n",
       "    <tr>\n",
       "      <th>...</th>\n",
       "      <td>...</td>\n",
       "      <td>...</td>\n",
       "    </tr>\n",
       "    <tr>\n",
       "      <th>2019-08-01</th>\n",
       "      <td>307.00</td>\n",
       "      <td>13.5</td>\n",
       "    </tr>\n",
       "    <tr>\n",
       "      <th>2019-09-01</th>\n",
       "      <td>307.00</td>\n",
       "      <td>13.5</td>\n",
       "    </tr>\n",
       "    <tr>\n",
       "      <th>2019-10-01</th>\n",
       "      <td>307.00</td>\n",
       "      <td>13.5</td>\n",
       "    </tr>\n",
       "    <tr>\n",
       "      <th>2019-11-01</th>\n",
       "      <td>307.00</td>\n",
       "      <td>13.5</td>\n",
       "    </tr>\n",
       "    <tr>\n",
       "      <th>2019-12-01</th>\n",
       "      <td>307.00</td>\n",
       "      <td>13.5</td>\n",
       "    </tr>\n",
       "  </tbody>\n",
       "</table>\n",
       "<p>84 rows × 2 columns</p>\n",
       "</div>"
      ],
      "text/plain": [
       "            EXCHANGE RATE  INTEREST RATE\n",
       "DATE                                    \n",
       "2013-01-01         157.20           12.0\n",
       "2013-02-01         158.60           12.0\n",
       "2013-03-01         158.63           12.0\n",
       "2013-04-01         157.90           12.0\n",
       "2013-05-01         158.10           12.0\n",
       "...                   ...            ...\n",
       "2019-08-01         307.00           13.5\n",
       "2019-09-01         307.00           13.5\n",
       "2019-10-01         307.00           13.5\n",
       "2019-11-01         307.00           13.5\n",
       "2019-12-01         307.00           13.5\n",
       "\n",
       "[84 rows x 2 columns]"
      ]
     },
     "execution_count": 117,
     "metadata": {
      "tags": []
     },
     "output_type": "execute_result"
    }
   ],
   "source": [
    "macro_data = pd.read_excel(r\"/content/PROJECT DATA BACKUP.xlsx\",parse_dates=True).set_index('DATE')\n",
    "print(macro_data.shape) \n",
    "macro_data"
   ]
  },
  {
   "cell_type": "code",
   "execution_count": 146,
   "metadata": {
    "colab": {
     "base_uri": "https://localhost:8080/",
     "height": 450
    },
    "id": "3YYT-1N7YXOz",
    "outputId": "2eea49d0-d57e-4438-9ee0-a5b4c9f63725"
   },
   "outputs": [
    {
     "data": {
      "text/html": [
       "<div>\n",
       "<style scoped>\n",
       "    .dataframe tbody tr th:only-of-type {\n",
       "        vertical-align: middle;\n",
       "    }\n",
       "\n",
       "    .dataframe tbody tr th {\n",
       "        vertical-align: top;\n",
       "    }\n",
       "\n",
       "    .dataframe thead th {\n",
       "        text-align: right;\n",
       "    }\n",
       "</style>\n",
       "<table border=\"1\" class=\"dataframe\">\n",
       "  <thead>\n",
       "    <tr style=\"text-align: right;\">\n",
       "      <th></th>\n",
       "      <th>EXCHANGE RATE</th>\n",
       "      <th>INTEREST RATE</th>\n",
       "    </tr>\n",
       "    <tr>\n",
       "      <th>DATE</th>\n",
       "      <th></th>\n",
       "      <th></th>\n",
       "    </tr>\n",
       "  </thead>\n",
       "  <tbody>\n",
       "    <tr>\n",
       "      <th>2013-01-31</th>\n",
       "      <td>157.20</td>\n",
       "      <td>12.0</td>\n",
       "    </tr>\n",
       "    <tr>\n",
       "      <th>2013-02-28</th>\n",
       "      <td>158.60</td>\n",
       "      <td>12.0</td>\n",
       "    </tr>\n",
       "    <tr>\n",
       "      <th>2013-03-31</th>\n",
       "      <td>158.63</td>\n",
       "      <td>12.0</td>\n",
       "    </tr>\n",
       "    <tr>\n",
       "      <th>2013-04-30</th>\n",
       "      <td>157.90</td>\n",
       "      <td>12.0</td>\n",
       "    </tr>\n",
       "    <tr>\n",
       "      <th>2013-05-31</th>\n",
       "      <td>158.10</td>\n",
       "      <td>12.0</td>\n",
       "    </tr>\n",
       "    <tr>\n",
       "      <th>...</th>\n",
       "      <td>...</td>\n",
       "      <td>...</td>\n",
       "    </tr>\n",
       "    <tr>\n",
       "      <th>2019-08-31</th>\n",
       "      <td>307.00</td>\n",
       "      <td>13.5</td>\n",
       "    </tr>\n",
       "    <tr>\n",
       "      <th>2019-09-30</th>\n",
       "      <td>307.00</td>\n",
       "      <td>13.5</td>\n",
       "    </tr>\n",
       "    <tr>\n",
       "      <th>2019-10-31</th>\n",
       "      <td>307.00</td>\n",
       "      <td>13.5</td>\n",
       "    </tr>\n",
       "    <tr>\n",
       "      <th>2019-11-30</th>\n",
       "      <td>307.00</td>\n",
       "      <td>13.5</td>\n",
       "    </tr>\n",
       "    <tr>\n",
       "      <th>2019-12-31</th>\n",
       "      <td>307.00</td>\n",
       "      <td>13.5</td>\n",
       "    </tr>\n",
       "  </tbody>\n",
       "</table>\n",
       "<p>84 rows × 2 columns</p>\n",
       "</div>"
      ],
      "text/plain": [
       "            EXCHANGE RATE  INTEREST RATE\n",
       "DATE                                    \n",
       "2013-01-31         157.20           12.0\n",
       "2013-02-28         158.60           12.0\n",
       "2013-03-31         158.63           12.0\n",
       "2013-04-30         157.90           12.0\n",
       "2013-05-31         158.10           12.0\n",
       "...                   ...            ...\n",
       "2019-08-31         307.00           13.5\n",
       "2019-09-30         307.00           13.5\n",
       "2019-10-31         307.00           13.5\n",
       "2019-11-30         307.00           13.5\n",
       "2019-12-31         307.00           13.5\n",
       "\n",
       "[84 rows x 2 columns]"
      ]
     },
     "execution_count": 146,
     "metadata": {
      "tags": []
     },
     "output_type": "execute_result"
    }
   ],
   "source": [
    "macro_data=macro_data.resample(\"M\").mean()\n",
    "macro_data"
   ]
  },
  {
   "cell_type": "code",
   "execution_count": 147,
   "metadata": {
    "colab": {
     "base_uri": "https://localhost:8080/",
     "height": 296
    },
    "id": "jB740ouGJedy",
    "outputId": "557637cf-9e55-4bd5-94b1-fe2faca2258a"
   },
   "outputs": [
    {
     "data": {
      "image/png": "[encoded data removed]",
      "text/plain": [
       "<Figure size 2400x720 with 2 Axes>"
      ]
     },
     "metadata": {
      "needs_background": "light",
      "tags": []
     },
     "output_type": "display_data"
    }
   ],
   "source": [
    "fig, axes = plt.subplots(nrows=1, ncols=2, dpi=120, figsize=(20,6))\n",
    "for i, ax in enumerate(axes.flatten()):\n",
    "    data = macro_data[macro_data.columns[i]]\n",
    "    ax.plot(data, color='red', linewidth=1)\n",
    "    ax.set_title(macro_data.columns[i])\n",
    "    ax.set(xlabel='DATE',ylabel=macro_data.columns[i])\n",
    "    ax.xaxis.set_ticks_position('none')\n",
    "    ax.yaxis.set_ticks_position('none')\n",
    "    ax.spines[\"top\"].set_alpha(0)\n",
    "    ax.tick_params(labelsize=10)\n",
    "\n",
    "plt.tight_layout()"
   ]
  },
  {
   "cell_type": "code",
   "execution_count": 148,
   "metadata": {
    "id": "zWEqBzvvJscR"
   },
   "outputs": [],
   "source": [
    "## AUTOCORRELATION/PARTIAL AUTOCORRELATION"
   ]
  },
  {
   "cell_type": "code",
   "execution_count": 149,
   "metadata": {
    "colab": {
     "base_uri": "https://localhost:8080/",
     "height": 1000
    },
    "id": "mZtl3-xLKQqY",
    "outputId": "a0599286-fbe9-43ab-832c-b6e214e9d805"
   },
   "outputs": [
    {
     "data": {
      "image/png": "[encoded data removed]",
      "text/plain": [
       "<Figure size 432x288 with 1 Axes>"
      ]
     },
     "metadata": {
      "needs_background": "light",
      "tags": []
     },
     "output_type": "display_data"
    },
    {
     "data": {
      "image/png": "[encoded data removed]",
      "text/plain": [
       "<Figure size 432x288 with 1 Axes>"
      ]
     },
     "metadata": {
      "needs_background": "light",
      "tags": []
     },
     "output_type": "display_data"
    },
    {
     "data": {
      "image/png": "[encoded data removed]",
      "text/plain": [
       "<Figure size 432x288 with 1 Axes>"
      ]
     },
     "metadata": {
      "needs_background": "light",
      "tags": []
     },
     "output_type": "display_data"
    },
    {
     "data": {
      "image/png": "[encoded data removed]",
      "text/plain": [
       "<Figure size 432x288 with 1 Axes>"
      ]
     },
     "metadata": {
      "needs_background": "light",
      "tags": []
     },
     "output_type": "display_data"
    }
   ],
   "source": [
    "for i in macro_data:\n",
    "    plot_acf(macro_data[i], lags=None, title= i)\n",
    "    plot_pacf(macro_data[i], lags=None,title= i)\n",
    "#acf(macro_data['Inter-Bank EXCHANGE RATE'])"
   ]
  },
  {
   "cell_type": "code",
   "execution_count": 150,
   "metadata": {
    "id": "RP293D46Klh5"
   },
   "outputs": [],
   "source": [
    "### Augmented Dickey Fullers test on data"
   ]
  },
  {
   "cell_type": "code",
   "execution_count": 151,
   "metadata": {
    "colab": {
     "base_uri": "https://localhost:8080/"
    },
    "id": "xjDs_MKCKwve",
    "outputId": "be02c2ca-1a5c-4eea-dbb6-dc4c8d5703e3"
   },
   "outputs": [
    {
     "name": "stdout",
     "output_type": "stream",
     "text": [
      "INTEREST RATE\n",
      "ADF Statistic: -1.824795461327139\n",
      "p-value: 0.3682227616211323\n",
      "The series is not stationary\n",
      "\n",
      "---------------------\n",
      "\n",
      "EXCHANGE RATE\n",
      "ADF Statistic: -1.0350825370668213\n",
      "p-value: 0.740254725608347\n",
      "The series is not stationary\n"
     ]
    }
   ],
   "source": [
    "ad_fuller_result_1 = adfuller(macro_data['INTEREST RATE'])\n",
    "\n",
    "print('INTEREST RATE')\n",
    "print(f'ADF Statistic: {ad_fuller_result_1[0]}')\n",
    "print(f'p-value: {ad_fuller_result_1[1]}')\n",
    "if ad_fuller_result_1[1]<0.05:\n",
    "    print('The series is stationary')\n",
    "else:\n",
    "    print('The series is not stationary')\n",
    "\n",
    "print('\\n---------------------\\n')\n",
    "\n",
    "ad_fuller_result_2 = adfuller(macro_data['EXCHANGE RATE'])\n",
    "\n",
    "print('EXCHANGE RATE')\n",
    "print(f'ADF Statistic: {ad_fuller_result_2[0]}')\n",
    "print(f'p-value: {ad_fuller_result_2[1]}')\n",
    "if ad_fuller_result_2[1]<0.05:\n",
    "    print('The series is stationary')\n",
    "else:\n",
    "    print('The series is not stationary')"
   ]
  },
  {
   "cell_type": "code",
   "execution_count": 152,
   "metadata": {
    "id": "3Wtq8Zr2LV_I"
   },
   "outputs": [],
   "source": [
    "# USING FIRST DIFFERENCING FOR STATIONARITY"
   ]
  },
  {
   "cell_type": "code",
   "execution_count": 153,
   "metadata": {
    "colab": {
     "base_uri": "https://localhost:8080/",
     "height": 450
    },
    "id": "tjFbuGYxLvRy",
    "outputId": "3d526c9d-4599-462f-8ef1-8692970b5ecc"
   },
   "outputs": [
    {
     "data": {
      "text/html": [
       "<div>\n",
       "<style scoped>\n",
       "    .dataframe tbody tr th:only-of-type {\n",
       "        vertical-align: middle;\n",
       "    }\n",
       "\n",
       "    .dataframe tbody tr th {\n",
       "        vertical-align: top;\n",
       "    }\n",
       "\n",
       "    .dataframe thead th {\n",
       "        text-align: right;\n",
       "    }\n",
       "</style>\n",
       "<table border=\"1\" class=\"dataframe\">\n",
       "  <thead>\n",
       "    <tr style=\"text-align: right;\">\n",
       "      <th></th>\n",
       "      <th>EXCHANGE RATE</th>\n",
       "      <th>INTEREST RATE</th>\n",
       "    </tr>\n",
       "    <tr>\n",
       "      <th>DATE</th>\n",
       "      <th></th>\n",
       "      <th></th>\n",
       "    </tr>\n",
       "  </thead>\n",
       "  <tbody>\n",
       "    <tr>\n",
       "      <th>2013-02-28</th>\n",
       "      <td>1.40</td>\n",
       "      <td>0.0</td>\n",
       "    </tr>\n",
       "    <tr>\n",
       "      <th>2013-03-31</th>\n",
       "      <td>0.03</td>\n",
       "      <td>0.0</td>\n",
       "    </tr>\n",
       "    <tr>\n",
       "      <th>2013-04-30</th>\n",
       "      <td>-0.73</td>\n",
       "      <td>0.0</td>\n",
       "    </tr>\n",
       "    <tr>\n",
       "      <th>2013-05-31</th>\n",
       "      <td>0.20</td>\n",
       "      <td>0.0</td>\n",
       "    </tr>\n",
       "    <tr>\n",
       "      <th>2013-06-30</th>\n",
       "      <td>4.50</td>\n",
       "      <td>0.0</td>\n",
       "    </tr>\n",
       "    <tr>\n",
       "      <th>...</th>\n",
       "      <td>...</td>\n",
       "      <td>...</td>\n",
       "    </tr>\n",
       "    <tr>\n",
       "      <th>2019-08-31</th>\n",
       "      <td>0.15</td>\n",
       "      <td>0.0</td>\n",
       "    </tr>\n",
       "    <tr>\n",
       "      <th>2019-09-30</th>\n",
       "      <td>0.00</td>\n",
       "      <td>0.0</td>\n",
       "    </tr>\n",
       "    <tr>\n",
       "      <th>2019-10-31</th>\n",
       "      <td>0.00</td>\n",
       "      <td>0.0</td>\n",
       "    </tr>\n",
       "    <tr>\n",
       "      <th>2019-11-30</th>\n",
       "      <td>0.00</td>\n",
       "      <td>0.0</td>\n",
       "    </tr>\n",
       "    <tr>\n",
       "      <th>2019-12-31</th>\n",
       "      <td>0.00</td>\n",
       "      <td>0.0</td>\n",
       "    </tr>\n",
       "  </tbody>\n",
       "</table>\n",
       "<p>83 rows × 2 columns</p>\n",
       "</div>"
      ],
      "text/plain": [
       "            EXCHANGE RATE  INTEREST RATE\n",
       "DATE                                    \n",
       "2013-02-28           1.40            0.0\n",
       "2013-03-31           0.03            0.0\n",
       "2013-04-30          -0.73            0.0\n",
       "2013-05-31           0.20            0.0\n",
       "2013-06-30           4.50            0.0\n",
       "...                   ...            ...\n",
       "2019-08-31           0.15            0.0\n",
       "2019-09-30           0.00            0.0\n",
       "2019-10-31           0.00            0.0\n",
       "2019-11-30           0.00            0.0\n",
       "2019-12-31           0.00            0.0\n",
       "\n",
       "[83 rows x 2 columns]"
      ]
     },
     "execution_count": 153,
     "metadata": {
      "tags": []
     },
     "output_type": "execute_result"
    }
   ],
   "source": [
    "differenced = pd.DataFrame({'EXCHANGE RATE':macro_data['EXCHANGE RATE'].diff()[1:],\n",
    "                            'INTEREST RATE':macro_data['INTEREST RATE'].diff()[1:]}).dropna()\n",
    "differenced"
   ]
  },
  {
   "cell_type": "code",
   "execution_count": 154,
   "metadata": {
    "colab": {
     "base_uri": "https://localhost:8080/",
     "height": 296
    },
    "id": "OCAR_TglMfOU",
    "outputId": "36ba1b28-1467-45c1-bcef-61d7249eb2dc"
   },
   "outputs": [
    {
     "data": {
      "text/plain": [
       "<matplotlib.axes._subplots.AxesSubplot at 0x7f0a497b8690>"
      ]
     },
     "execution_count": 154,
     "metadata": {
      "tags": []
     },
     "output_type": "execute_result"
    },
    {
     "data": {
      "image/png": "[encoded data removed]",
      "text/plain": [
       "<Figure size 432x288 with 1 Axes>"
      ]
     },
     "metadata": {
      "needs_background": "light",
      "tags": []
     },
     "output_type": "display_data"
    }
   ],
   "source": [
    "differenced.plot()"
   ]
  },
  {
   "cell_type": "code",
   "execution_count": 155,
   "metadata": {
    "id": "J89l_d6JL8Yy"
   },
   "outputs": [],
   "source": [
    "# CHECKING FOR STATIONARITY ON FIRST DIFFERENCED DATA"
   ]
  },
  {
   "cell_type": "code",
   "execution_count": 155,
   "metadata": {
    "id": "Q6FMJdMFMWe1"
   },
   "outputs": [],
   "source": []
  },
  {
   "cell_type": "code",
   "execution_count": 156,
   "metadata": {
    "id": "u3hXPmNqM-kU"
   },
   "outputs": [],
   "source": [
    "#ploting the acf and pacf to check for stationarity"
   ]
  },
  {
   "cell_type": "code",
   "execution_count": 157,
   "metadata": {
    "colab": {
     "base_uri": "https://localhost:8080/",
     "height": 1000
    },
    "id": "wHGBYzRKMs4L",
    "outputId": "af0cdbfa-4f4b-4f85-ca79-0080d8be7cce"
   },
   "outputs": [
    {
     "data": {
      "image/png": "[encoded data removed]",
      "text/plain": [
       "<Figure size 432x288 with 1 Axes>"
      ]
     },
     "metadata": {
      "needs_background": "light",
      "tags": []
     },
     "output_type": "display_data"
    },
    {
     "data": {
      "image/png": "[encoded data removed]",
      "text/plain": [
       "<Figure size 432x288 with 1 Axes>"
      ]
     },
     "metadata": {
      "needs_background": "light",
      "tags": []
     },
     "output_type": "display_data"
    },
    {
     "data": {
      "image/png": "[encoded data removed]",
      "text/plain": [
       "<Figure size 432x288 with 1 Axes>"
      ]
     },
     "metadata": {
      "needs_background": "light",
      "tags": []
     },
     "output_type": "display_data"
    },
    {
     "data": {
      "image/png": "[encoded data removed]",
      "text/plain": [
       "<Figure size 432x288 with 1 Axes>"
      ]
     },
     "metadata": {
      "needs_background": "light",
      "tags": []
     },
     "output_type": "display_data"
    }
   ],
   "source": [
    "for i in differenced:\n",
    "    plot_acf(differenced[i], lags=None, title= 'Autocorrelation on '+i)\n",
    "\n",
    "for i in differenced:\n",
    "    plot_pacf(differenced[i], lags=None,title= 'Partial Autocorrelation on '+i)\n"
   ]
  },
  {
   "cell_type": "code",
   "execution_count": 158,
   "metadata": {
    "id": "Ftb-a3cCM9Wx"
   },
   "outputs": [],
   "source": [
    "# confirming with augmented dickey fullers test"
   ]
  },
  {
   "cell_type": "code",
   "execution_count": 159,
   "metadata": {
    "colab": {
     "base_uri": "https://localhost:8080/"
    },
    "id": "7gL9kP_9NQ2S",
    "outputId": "b084c0d1-ecbc-4936-b9d0-72797bdb7613"
   },
   "outputs": [
    {
     "name": "stdout",
     "output_type": "stream",
     "text": [
      "INTEREST RATE\n",
      "ADF Statistic: -8.968312104826051\n",
      "p-value: 7.878295526946455e-15\n",
      "The series is stationary\n",
      "\n",
      "---------------------\n",
      "\n",
      "Bank EXCHANGE RATE\n",
      "ADF Statistic: -6.395608333775858\n",
      "p-value: 2.05448708350073e-08\n",
      "The series is stationary\n"
     ]
    }
   ],
   "source": [
    "ad_fuller_result_1 = adfuller(differenced['INTEREST RATE'],maxlag=2,)\n",
    "#The null hypothesis of the Augmented Dickey-Fuller is that there is a unit\n",
    "#root, with the alternative that there is no unit root. If the pvalue is\n",
    "#above a critical size, then we cannot reject that there is a unit root.\n",
    "\n",
    "\n",
    "print('INTEREST RATE')\n",
    "print(f'ADF Statistic: {ad_fuller_result_1[0]}')\n",
    "print(f'p-value: {ad_fuller_result_1[1]}')\n",
    "if ad_fuller_result_1[1]<0.05:\n",
    "    print('The series is stationary')\n",
    "else:\n",
    "    print('The series is not stationary')\n",
    "\n",
    "print('\\n---------------------\\n')\n",
    "\n",
    "ad_fuller_result_2 = adfuller(differenced['EXCHANGE RATE'],maxlag=2)\n",
    "\n",
    "print('Bank EXCHANGE RATE')\n",
    "print(f'ADF Statistic: {ad_fuller_result_2[0]}')\n",
    "print(f'p-value: {ad_fuller_result_2[1]}')\n",
    "if ad_fuller_result_2[1]<0.05:\n",
    "    print('The series is stationary')\n",
    "else:\n",
    "    print('The series is not stationary')"
   ]
  },
  {
   "cell_type": "code",
   "execution_count": 160,
   "metadata": {
    "id": "ZzcGgOaPNu8h"
   },
   "outputs": [],
   "source": [
    "# GRANGER CAUSUALITY TEST "
   ]
  },
  {
   "cell_type": "code",
   "execution_count": 161,
   "metadata": {
    "colab": {
     "base_uri": "https://localhost:8080/"
    },
    "id": "VCYdnwWsN0bl",
    "outputId": "ff35eca4-130b-4bc3-f736-e8af1a835386"
   },
   "outputs": [
    {
     "name": "stdout",
     "output_type": "stream",
     "text": [
      "INTEREST RATE causes EXCHANGE RATE?\n",
      "\n",
      "------------------\n",
      "\n",
      "Granger Causality\n",
      "number of lags (no zero) 1\n",
      "ssr based F test:         F=1.0382  , p=0.3114  , df_denom=79, df_num=1\n",
      "ssr based chi2 test:   chi2=1.0776  , p=0.2992  , df=1\n",
      "likelihood ratio test: chi2=1.0706  , p=0.3008  , df=1\n",
      "parameter F test:         F=1.0382  , p=0.3114  , df_denom=79, df_num=1\n",
      "\n",
      "Granger Causality\n",
      "number of lags (no zero) 2\n",
      "ssr based F test:         F=0.1564  , p=0.8555  , df_denom=76, df_num=2\n",
      "ssr based chi2 test:   chi2=0.3334  , p=0.8465  , df=2\n",
      "likelihood ratio test: chi2=0.3327  , p=0.8467  , df=2\n",
      "parameter F test:         F=0.1564  , p=0.8555  , df_denom=76, df_num=2\n",
      "\n",
      "Granger Causality\n",
      "number of lags (no zero) 3\n",
      "ssr based F test:         F=3.2699  , p=0.0260  , df_denom=73, df_num=3\n",
      "ssr based chi2 test:   chi2=10.7503 , p=0.0132  , df=3\n",
      "likelihood ratio test: chi2=10.0869 , p=0.0178  , df=3\n",
      "parameter F test:         F=3.2699  , p=0.0260  , df_denom=73, df_num=3\n",
      "\n",
      "Granger Causality\n",
      "number of lags (no zero) 4\n",
      "ssr based F test:         F=4.4486  , p=0.0029  , df_denom=70, df_num=4\n",
      "ssr based chi2 test:   chi2=20.0825 , p=0.0005  , df=4\n",
      "likelihood ratio test: chi2=17.8939 , p=0.0013  , df=4\n",
      "parameter F test:         F=4.4486  , p=0.0029  , df_denom=70, df_num=4\n",
      "\\EXCHANGE RATE causes INTEREST RATE?\n",
      "\n",
      "------------------\n",
      "\n",
      "Granger Causality\n",
      "number of lags (no zero) 1\n",
      "ssr based F test:         F=44.0122 , p=0.0000  , df_denom=79, df_num=1\n",
      "ssr based chi2 test:   chi2=45.6836 , p=0.0000  , df=1\n",
      "likelihood ratio test: chi2=36.3125 , p=0.0000  , df=1\n",
      "parameter F test:         F=44.0122 , p=0.0000  , df_denom=79, df_num=1\n",
      "\n",
      "Granger Causality\n",
      "number of lags (no zero) 2\n",
      "ssr based F test:         F=22.4432 , p=0.0000  , df_denom=76, df_num=2\n",
      "ssr based chi2 test:   chi2=47.8395 , p=0.0000  , df=2\n",
      "likelihood ratio test: chi2=37.5936 , p=0.0000  , df=2\n",
      "parameter F test:         F=22.4432 , p=0.0000  , df_denom=76, df_num=2\n",
      "\n",
      "Granger Causality\n",
      "number of lags (no zero) 3\n",
      "ssr based F test:         F=14.7459 , p=0.0000  , df_denom=73, df_num=3\n",
      "ssr based chi2 test:   chi2=48.4797 , p=0.0000  , df=3\n",
      "likelihood ratio test: chi2=37.8995 , p=0.0000  , df=3\n",
      "parameter F test:         F=14.7459 , p=0.0000  , df_denom=73, df_num=3\n",
      "\n",
      "Granger Causality\n",
      "number of lags (no zero) 4\n",
      "ssr based F test:         F=13.1351 , p=0.0000  , df_denom=70, df_num=4\n",
      "ssr based chi2 test:   chi2=59.2957 , p=0.0000  , df=4\n",
      "likelihood ratio test: chi2=44.2358 , p=0.0000  , df=4\n",
      "parameter F test:         F=13.1351 , p=0.0000  , df_denom=70, df_num=4\n"
     ]
    }
   ],
   "source": [
    "print('INTEREST RATE causes EXCHANGE RATE?\\n')\n",
    "print('------------------')\n",
    "granger_1 = grangercausalitytests(differenced[['EXCHANGE RATE', 'INTEREST RATE']], 4)\n",
    "\n",
    "print('\\EXCHANGE RATE causes INTEREST RATE?\\n')\n",
    "print('------------------')\n",
    "granger_2 = grangercausalitytests(differenced[['INTEREST RATE', 'EXCHANGE RATE']], 4)"
   ]
  },
  {
   "cell_type": "code",
   "execution_count": 162,
   "metadata": {
    "id": "meYBrBDwOfZT"
   },
   "outputs": [],
   "source": [
    "#### $H_0$ : The time series INTEREST RATE, does NOT Granger cause the time series Inter-Bank EXCHANGE RATE\n",
    "#### $H_1$ : The time series INTEREST RATE, Granger cause the time series Inter-Bank EXCHANGE RATE"
   ]
  },
  {
   "cell_type": "code",
   "execution_count": 163,
   "metadata": {
    "colab": {
     "base_uri": "https://localhost:8080/"
    },
    "id": "Lt__gQSbNaXF",
    "outputId": "86e90302-5c9d-48e4-ab34-1c07371654a0"
   },
   "outputs": [
    {
     "name": "stdout",
     "output_type": "stream",
     "text": [
      "INTEREST RATE causes EXCHANGE RATE\n",
      "LAG_1 P VALUE =  0.3113523235260696\n",
      "We ACCEPT the null hypothesis that INTEREST RATE does not Granger cause Inter-Bank EXCHANGE RATE\n",
      "LAG_2 P VALUE =  0.8554885670624046\n",
      "We ACCEPT the null hypothesis that INTEREST RATE does not Granger cause Inter-Bank EXCHANGE RATE\n",
      "LAG_3 P VALUE =  0.025952286242848503\n",
      "We REJECT the null hypothesis that INTEREST RATE does not Granger cause Inter-Bank EXCHANGE RATE\n",
      "LAG_4 P VALUE =  0.0029189086432319746\n",
      "We REJECT the null hypothesis that INTEREST RATE does not Granger cause Inter-Bank EXCHANGE RATE\n"
     ]
    }
   ],
   "source": [
    "print('INTEREST RATE causes EXCHANGE RATE')\n",
    "for i in range(1,5):    \n",
    "    p_value= granger_1[i][0]['ssr_ftest'][1]\n",
    "    print(f'LAG_{i}','P VALUE = ',p_value)\n",
    "    if p_value<0.05:\n",
    "        print('We REJECT the null hypothesis that INTEREST RATE does not Granger cause Inter-Bank EXCHANGE RATE')\n",
    "    else:\n",
    "        print('We ACCEPT the null hypothesis that INTEREST RATE does not Granger cause Inter-Bank EXCHANGE RATE')\n",
    "\n",
    "    \n",
    "    '''The Null hypothesis for grangercausalitytests is that the time series in\n",
    "    the second column, x2, does NOT Granger cause the time series in the first\n",
    "column, x1. Grange causality means that past values of x2 have a\n",
    "statistically significant effect on the current value of x1, taking past\n",
    "values of x1 into account as regressors. We reject the null hypothesis\n",
    "that x2 does not Granger cause x1 if the pvalues are below a desired size\n",
    "of the test.\n",
    "\n",
    "The null hypothesis for all four test is that the coefficients\n",
    "corresponding to past values of the second time series are zero'''"
   ]
  },
  {
   "cell_type": "code",
   "execution_count": 164,
   "metadata": {
    "id": "aCEM6bUVNlIQ"
   },
   "outputs": [],
   "source": [
    "#### $H_0$ : The time series Inter-Bank EXCHANGE RATE, does NOT Granger cause the time series INTEREST RATE\n",
    "#### $H_1$ : The time series Inter-Bank EXCHANGE RATE, Granger cause the time series INTEREST RATE"
   ]
  },
  {
   "cell_type": "code",
   "execution_count": 165,
   "metadata": {
    "colab": {
     "base_uri": "https://localhost:8080/"
    },
    "id": "BL-J17gfOodJ",
    "outputId": "8b50214b-a765-40dd-ca9c-e76c0b0dfe60"
   },
   "outputs": [
    {
     "name": "stdout",
     "output_type": "stream",
     "text": [
      "\n",
      "EXCHANGE RATE causes INTEREST RATE\n",
      "LAG_1 P VALUE =  3.7076854519562874e-09\n",
      "We REJECT the null hypothesis that EXCHANGE RATE does not Granger cause  INTEREST RATE\n",
      "LAG_2 P VALUE =  2.1906435921866582e-08\n",
      "We REJECT the null hypothesis that EXCHANGE RATE does not Granger cause  INTEREST RATE\n",
      "LAG_3 P VALUE =  1.336514190767387e-07\n",
      "We REJECT the null hypothesis that EXCHANGE RATE does not Granger cause  INTEREST RATE\n",
      "LAG_4 P VALUE =  4.931047109585799e-08\n",
      "We REJECT the null hypothesis that EXCHANGE RATE does not Granger cause  INTEREST RATE\n"
     ]
    }
   ],
   "source": [
    "print('\\nEXCHANGE RATE causes INTEREST RATE')\n",
    "for i in range(1,5):    \n",
    "    p_value= granger_2[i][0]['ssr_ftest'][1]\n",
    "    print(f'LAG_{i}','P VALUE = ',p_value)\n",
    "    if p_value<0.05:\n",
    "        print('We REJECT the null hypothesis that EXCHANGE RATE does not Granger cause  INTEREST RATE')\n",
    "    else:\n",
    "        print('We ACCEPT the null hypothesis that EXCHANGE RATE does not Granger cause  INTEREST RATE')\n"
   ]
  },
  {
   "cell_type": "code",
   "execution_count": 166,
   "metadata": {
    "id": "-OrA6cNQQJ6j"
   },
   "outputs": [],
   "source": [
    "max_lags = 10\n",
    "y = \"EXCHANGE RATE\""
   ]
  },
  {
   "cell_type": "code",
   "execution_count": 167,
   "metadata": {
    "colab": {
     "base_uri": "https://localhost:8080/"
    },
    "id": "hztxs7uRO3Pz",
    "outputId": "9a3d0e26-71bd-4f41-9a8d-255eb785e23f"
   },
   "outputs": [
    {
     "name": "stdout",
     "output_type": "stream",
     "text": [
      "Column = INTEREST RATE : P_Values = [0.3114, 0.8555, 0.026, 0.0029, 0.0078, 0.0142, 0.0, 0.0, 0.0, 0.0]\n"
     ]
    }
   ],
   "source": [
    "for i in range(len(differenced.columns)-1):\n",
    "  results=grangercausalitytests(differenced[[y, differenced.columns[i+1]]], max_lags,verbose=False)\n",
    "  p_values=[round(results[i+1][0][\"ssr_ftest\"][1],4) for i in range(max_lags)]\n",
    "  print(\"Column = {} : P_Values = {}\".format(differenced.columns[i+1],p_values))"
   ]
  },
  {
   "cell_type": "code",
   "execution_count": 168,
   "metadata": {
    "id": "KWgIQJq_Ruqt"
   },
   "outputs": [],
   "source": [
    "df_input=differenced[[\"EXCHANGE RATE\",\"INTEREST RATE\"]]"
   ]
  },
  {
   "cell_type": "code",
   "execution_count": 169,
   "metadata": {
    "colab": {
     "base_uri": "https://localhost:8080/",
     "height": 450
    },
    "id": "MwttuFzuTWWE",
    "outputId": "64ecae5c-22c1-464a-9d60-f65413d3b57a"
   },
   "outputs": [
    {
     "data": {
      "text/html": [
       "<div>\n",
       "<style scoped>\n",
       "    .dataframe tbody tr th:only-of-type {\n",
       "        vertical-align: middle;\n",
       "    }\n",
       "\n",
       "    .dataframe tbody tr th {\n",
       "        vertical-align: top;\n",
       "    }\n",
       "\n",
       "    .dataframe thead th {\n",
       "        text-align: right;\n",
       "    }\n",
       "</style>\n",
       "<table border=\"1\" class=\"dataframe\">\n",
       "  <thead>\n",
       "    <tr style=\"text-align: right;\">\n",
       "      <th></th>\n",
       "      <th>EXCHANGE RATE</th>\n",
       "      <th>INTEREST RATE</th>\n",
       "    </tr>\n",
       "    <tr>\n",
       "      <th>DATE</th>\n",
       "      <th></th>\n",
       "      <th></th>\n",
       "    </tr>\n",
       "  </thead>\n",
       "  <tbody>\n",
       "    <tr>\n",
       "      <th>2013-02-28</th>\n",
       "      <td>1.40</td>\n",
       "      <td>0.0</td>\n",
       "    </tr>\n",
       "    <tr>\n",
       "      <th>2013-03-31</th>\n",
       "      <td>0.03</td>\n",
       "      <td>0.0</td>\n",
       "    </tr>\n",
       "    <tr>\n",
       "      <th>2013-04-30</th>\n",
       "      <td>-0.73</td>\n",
       "      <td>0.0</td>\n",
       "    </tr>\n",
       "    <tr>\n",
       "      <th>2013-05-31</th>\n",
       "      <td>0.20</td>\n",
       "      <td>0.0</td>\n",
       "    </tr>\n",
       "    <tr>\n",
       "      <th>2013-06-30</th>\n",
       "      <td>4.50</td>\n",
       "      <td>0.0</td>\n",
       "    </tr>\n",
       "    <tr>\n",
       "      <th>...</th>\n",
       "      <td>...</td>\n",
       "      <td>...</td>\n",
       "    </tr>\n",
       "    <tr>\n",
       "      <th>2019-08-31</th>\n",
       "      <td>0.15</td>\n",
       "      <td>0.0</td>\n",
       "    </tr>\n",
       "    <tr>\n",
       "      <th>2019-09-30</th>\n",
       "      <td>0.00</td>\n",
       "      <td>0.0</td>\n",
       "    </tr>\n",
       "    <tr>\n",
       "      <th>2019-10-31</th>\n",
       "      <td>0.00</td>\n",
       "      <td>0.0</td>\n",
       "    </tr>\n",
       "    <tr>\n",
       "      <th>2019-11-30</th>\n",
       "      <td>0.00</td>\n",
       "      <td>0.0</td>\n",
       "    </tr>\n",
       "    <tr>\n",
       "      <th>2019-12-31</th>\n",
       "      <td>0.00</td>\n",
       "      <td>0.0</td>\n",
       "    </tr>\n",
       "  </tbody>\n",
       "</table>\n",
       "<p>83 rows × 2 columns</p>\n",
       "</div>"
      ],
      "text/plain": [
       "            EXCHANGE RATE  INTEREST RATE\n",
       "DATE                                    \n",
       "2013-02-28           1.40            0.0\n",
       "2013-03-31           0.03            0.0\n",
       "2013-04-30          -0.73            0.0\n",
       "2013-05-31           0.20            0.0\n",
       "2013-06-30           4.50            0.0\n",
       "...                   ...            ...\n",
       "2019-08-31           0.15            0.0\n",
       "2019-09-30           0.00            0.0\n",
       "2019-10-31           0.00            0.0\n",
       "2019-11-30           0.00            0.0\n",
       "2019-12-31           0.00            0.0\n",
       "\n",
       "[83 rows x 2 columns]"
      ]
     },
     "execution_count": 169,
     "metadata": {
      "tags": []
     },
     "output_type": "execute_result"
    }
   ],
   "source": [
    "df_input"
   ]
  },
  {
   "cell_type": "code",
   "execution_count": 170,
   "metadata": {
    "colab": {
     "base_uri": "https://localhost:8080/",
     "height": 296
    },
    "id": "gkpMDsFnhoR-",
    "outputId": "a581c265-70f9-406f-aa18-098440021cc8"
   },
   "outputs": [
    {
     "data": {
      "text/plain": [
       "<matplotlib.axes._subplots.AxesSubplot at 0x7f0a497afc50>"
      ]
     },
     "execution_count": 170,
     "metadata": {
      "tags": []
     },
     "output_type": "execute_result"
    },
    {
     "data": {
      "image/png": "[encoded data removed]",
      "text/plain": [
       "<Figure size 432x288 with 1 Axes>"
      ]
     },
     "metadata": {
      "needs_background": "light",
      "tags": []
     },
     "output_type": "display_data"
    }
   ],
   "source": [
    "df_input.plot()"
   ]
  },
  {
   "cell_type": "code",
   "execution_count": 170,
   "metadata": {
    "id": "A9CmeibThoTz"
   },
   "outputs": [],
   "source": []
  },
  {
   "cell_type": "code",
   "execution_count": 171,
   "metadata": {
    "id": "4hibRs1sTg-F"
   },
   "outputs": [],
   "source": [
    "df_train = df_input[:int(0.9*(len(df_input)))]\n",
    "df_test = df_input[int(0.9*(len(df_input))):]"
   ]
  },
  {
   "cell_type": "code",
   "execution_count": 172,
   "metadata": {
    "colab": {
     "base_uri": "https://localhost:8080/"
    },
    "id": "FNA1yfoAUM0d",
    "outputId": "1a2ac46a-efde-40de-e11b-d7dd1b26ade2"
   },
   "outputs": [
    {
     "data": {
      "text/plain": [
       "(74, 2)"
      ]
     },
     "execution_count": 172,
     "metadata": {
      "tags": []
     },
     "output_type": "execute_result"
    }
   ],
   "source": [
    "df_train.shape"
   ]
  },
  {
   "cell_type": "code",
   "execution_count": 173,
   "metadata": {
    "colab": {
     "base_uri": "https://localhost:8080/"
    },
    "id": "t9AerVRdUPrd",
    "outputId": "fa3d8427-186f-461b-d71b-5cf735330dfd"
   },
   "outputs": [
    {
     "data": {
      "text/plain": [
       "(9, 2)"
      ]
     },
     "execution_count": 173,
     "metadata": {
      "tags": []
     },
     "output_type": "execute_result"
    }
   ],
   "source": [
    "df_test.shape"
   ]
  },
  {
   "cell_type": "code",
   "execution_count": 174,
   "metadata": {
    "id": "lce2B5jFUT_V"
   },
   "outputs": [],
   "source": [
    "model = VAR(df_train, freq=\"M\")\n",
    "#for i in range(48):\n",
    "#  results = model.fit(i+1)\n",
    "#  print(\"Order = \",i+1)\n",
    "#  print(\"AIC = \" ,results.aic)\n",
    "#  print(\"BIC = \", results.bic)"
   ]
  },
  {
   "cell_type": "code",
   "execution_count": 175,
   "metadata": {
    "colab": {
     "base_uri": "https://localhost:8080/",
     "height": 305
    },
    "id": "Dpc-oHEgVrR9",
    "outputId": "457851b5-da3d-449c-e765-e014bc8ab986"
   },
   "outputs": [
    {
     "data": {
      "text/html": [
       "<table class=\"simpletable\">\n",
       "<caption>VAR Order Selection (* highlights the minimums)</caption>\n",
       "<tr>\n",
       "   <td></td>      <th>AIC</th>         <th>BIC</th>         <th>FPE</th>        <th>HQIC</th>    \n",
       "</tr>\n",
       "<tr>\n",
       "  <th>0</th>  <td>     3.047</td>  <td>     3.114</td>  <td>     21.04</td>  <td>     3.073</td> \n",
       "</tr>\n",
       "<tr>\n",
       "  <th>1</th>  <td>     2.690</td>  <td>     2.893</td>  <td>     14.74</td>  <td>     2.770</td> \n",
       "</tr>\n",
       "<tr>\n",
       "  <th>2</th>  <td>     2.774</td>  <td>     3.111</td>  <td>     16.04</td>  <td>     2.907</td> \n",
       "</tr>\n",
       "<tr>\n",
       "  <th>3</th>  <td>     2.760</td>  <td>     3.232</td>  <td>     15.82</td>  <td>     2.946</td> \n",
       "</tr>\n",
       "<tr>\n",
       "  <th>4</th>  <td>     2.677</td>  <td>     3.284</td>  <td>     14.59</td>  <td>     2.916</td> \n",
       "</tr>\n",
       "<tr>\n",
       "  <th>5</th>  <td>     2.708</td>  <td>     3.450</td>  <td>     15.10</td>  <td>     3.000</td> \n",
       "</tr>\n",
       "<tr>\n",
       "  <th>6</th>  <td>     2.819</td>  <td>     3.696</td>  <td>     16.96</td>  <td>     3.165</td> \n",
       "</tr>\n",
       "<tr>\n",
       "  <th>7</th>  <td>     2.352</td>  <td>     3.364</td>  <td>     10.70</td>  <td>     2.751</td> \n",
       "</tr>\n",
       "<tr>\n",
       "  <th>8</th>  <td>     1.667*</td> <td>     2.814*</td> <td>     5.439*</td> <td>     2.119*</td>\n",
       "</tr>\n",
       "<tr>\n",
       "  <th>9</th>  <td>     1.736</td>  <td>     3.018</td>  <td>     5.889</td>  <td>     2.241</td> \n",
       "</tr>\n",
       "<tr>\n",
       "  <th>10</th> <td>     1.812</td>  <td>     3.229</td>  <td>     6.442</td>  <td>     2.371</td> \n",
       "</tr>\n",
       "</table>"
      ],
      "text/plain": [
       "<class 'statsmodels.iolib.table.SimpleTable'>"
      ]
     },
     "execution_count": 175,
     "metadata": {
      "tags": []
     },
     "output_type": "execute_result"
    }
   ],
   "source": [
    "model.select_order(10).summary()"
   ]
  },
  {
   "cell_type": "code",
   "execution_count": 176,
   "metadata": {
    "id": "23diqQU_WjuZ"
   },
   "outputs": [],
   "source": [
    "model = VAR(df_train, freq=\"M\")\n",
    "results = model.fit(10)"
   ]
  },
  {
   "cell_type": "code",
   "execution_count": 177,
   "metadata": {
    "colab": {
     "base_uri": "https://localhost:8080/"
    },
    "id": "rCqbPIytik7p",
    "outputId": "ccf5f379-d0c9-4273-d163-94c29f462c4c"
   },
   "outputs": [
    {
     "name": "stdout",
     "output_type": "stream",
     "text": [
      "  Summary of Regression Results   \n",
      "==================================\n",
      "Model:                         VAR\n",
      "Method:                        OLS\n",
      "Date:           Sun, 15, Aug, 2021\n",
      "Time:                     19:47:46\n",
      "--------------------------------------------------------------------\n",
      "No. of Equations:         2.00000    BIC:                    3.22924\n",
      "Nobs:                     64.0000    HQIC:                   2.37061\n",
      "Log likelihood:          -197.623    FPE:                    6.44222\n",
      "AIC:                      1.81247    Det(Omega_mle):         3.65222\n",
      "--------------------------------------------------------------------\n",
      "Results for equation EXCHANGE RATE\n",
      "====================================================================================\n",
      "                       coefficient       std. error           t-stat            prob\n",
      "------------------------------------------------------------------------------------\n",
      "const                     1.198725         0.911415            1.315           0.188\n",
      "L1.EXCHANGE RATE          0.103112         0.151051            0.683           0.495\n",
      "L1.INTEREST RATE          1.241995         2.616759            0.475           0.635\n",
      "L2.EXCHANGE RATE         -0.204877         0.179435           -1.142           0.254\n",
      "L2.INTEREST RATE          0.704135         2.563944            0.275           0.784\n",
      "L3.EXCHANGE RATE         -0.037983         0.125466           -0.303           0.762\n",
      "L3.INTEREST RATE          4.494702         2.564255            1.753           0.080\n",
      "L4.EXCHANGE RATE          0.294897         0.111771            2.638           0.008\n",
      "L4.INTEREST RATE         -1.302897         2.647914           -0.492           0.623\n",
      "L5.EXCHANGE RATE          0.054372         0.118255            0.460           0.646\n",
      "L5.INTEREST RATE          0.914616         2.919770            0.313           0.754\n",
      "L6.EXCHANGE RATE         -0.014170         0.117060           -0.121           0.904\n",
      "L6.INTEREST RATE         -0.912662         2.905521           -0.314           0.753\n",
      "L7.EXCHANGE RATE          0.095181         0.101927            0.934           0.350\n",
      "L7.INTEREST RATE        -33.606760         2.905298          -11.567           0.000\n",
      "L8.EXCHANGE RATE          0.721340         0.098898            7.294           0.000\n",
      "L8.INTEREST RATE        -10.634171         5.815476           -1.829           0.067\n",
      "L9.EXCHANGE RATE         -0.007091         0.146370           -0.048           0.961\n",
      "L9.INTEREST RATE         -1.888042         6.090416           -0.310           0.757\n",
      "L10.EXCHANGE RATE         0.086706         0.148064            0.586           0.558\n",
      "L10.INTEREST RATE        -3.594532         3.349959           -1.073           0.283\n",
      "====================================================================================\n",
      "\n",
      "Results for equation INTEREST RATE\n",
      "====================================================================================\n",
      "                       coefficient       std. error           t-stat            prob\n",
      "------------------------------------------------------------------------------------\n",
      "const                    -0.058627         0.053911           -1.087           0.277\n",
      "L1.EXCHANGE RATE          0.038759         0.008935            4.338           0.000\n",
      "L1.INTEREST RATE         -0.131240         0.154785           -0.848           0.396\n",
      "L2.EXCHANGE RATE          0.002709         0.010614            0.255           0.799\n",
      "L2.INTEREST RATE         -0.021550         0.151661           -0.142           0.887\n",
      "L3.EXCHANGE RATE          0.005908         0.007421            0.796           0.426\n",
      "L3.INTEREST RATE         -0.083752         0.151679           -0.552           0.581\n",
      "L4.EXCHANGE RATE          0.002332         0.006611            0.353           0.724\n",
      "L4.INTEREST RATE         -0.488847         0.156628           -3.121           0.002\n",
      "L5.EXCHANGE RATE          0.006401         0.006995            0.915           0.360\n",
      "L5.INTEREST RATE         -0.093860         0.172708           -0.543           0.587\n",
      "L6.EXCHANGE RATE         -0.004602         0.006924           -0.665           0.506\n",
      "L6.INTEREST RATE          0.013523         0.171865            0.079           0.937\n",
      "L7.EXCHANGE RATE         -0.000137         0.006029           -0.023           0.982\n",
      "L7.INTEREST RATE         -0.076564         0.171852           -0.446           0.656\n",
      "L8.EXCHANGE RATE          0.002688         0.005850            0.460           0.646\n",
      "L8.INTEREST RATE          0.410730         0.343993            1.194           0.232\n",
      "L9.EXCHANGE RATE         -0.012378         0.008658           -1.430           0.153\n",
      "L9.INTEREST RATE          0.486455         0.360256            1.350           0.177\n",
      "L10.EXCHANGE RATE        -0.007783         0.008758           -0.889           0.374\n",
      "L10.INTEREST RATE         0.130329         0.198155            0.658           0.511\n",
      "====================================================================================\n",
      "\n",
      "Correlation matrix of residuals\n",
      "                 EXCHANGE RATE  INTEREST RATE\n",
      "EXCHANGE RATE         1.000000       0.108987\n",
      "INTEREST RATE         0.108987       1.000000\n",
      "\n",
      "\n",
      "\n"
     ]
    }
   ],
   "source": [
    "print(results.summary())"
   ]
  },
  {
   "cell_type": "code",
   "execution_count": 178,
   "metadata": {
    "id": "SX5jhFwTiqjd"
   },
   "outputs": [],
   "source": [
    "lag = results.k_ar"
   ]
  },
  {
   "cell_type": "code",
   "execution_count": 179,
   "metadata": {
    "colab": {
     "base_uri": "https://localhost:8080/"
    },
    "id": "1A9JhUytjknw",
    "outputId": "7d47e340-05b6-456a-88e2-8ca698811526"
   },
   "outputs": [
    {
     "data": {
      "text/plain": [
       "10"
      ]
     },
     "execution_count": 179,
     "metadata": {
      "tags": []
     },
     "output_type": "execute_result"
    }
   ],
   "source": [
    "lag"
   ]
  },
  {
   "cell_type": "code",
   "execution_count": 182,
   "metadata": {
    "colab": {
     "base_uri": "https://localhost:8080/"
    },
    "id": "nHttWqTWjoOl",
    "outputId": "ddea6444-6ef6-42c5-e0c2-b6f4bc2bd943"
   },
   "outputs": [
    {
     "data": {
      "text/plain": [
       "array([[ 8.63006063e-01,  1.50758849e-02],\n",
       "       [ 1.00915173e+00, -2.09543459e-02],\n",
       "       [-1.08992687e+00,  2.10553951e-02],\n",
       "       [ 1.98726065e+00,  1.49065340e-01],\n",
       "       [ 1.59708732e+00,  4.05875527e-02],\n",
       "       [ 1.94665048e+00, -5.48224425e-03],\n",
       "       [ 1.82006006e+01,  5.19295585e-02],\n",
       "       [ 8.19459910e+00,  3.64771105e-01],\n",
       "       [ 1.57169521e+00,  2.39175138e-02],\n",
       "       [ 1.96662616e+00,  4.61435863e-02]])"
      ]
     },
     "execution_count": 182,
     "metadata": {
      "tags": []
     },
     "output_type": "execute_result"
    }
   ],
   "source": [
    "results.forecast(df_train.values[-lag:],steps=10)"
   ]
  },
  {
   "cell_type": "code",
   "execution_count": 189,
   "metadata": {
    "colab": {
     "base_uri": "https://localhost:8080/",
     "height": 1000
    },
    "id": "2zk6NR4YopL8",
    "outputId": "4deb6dc4-4271-4dea-cadd-bd2707ba0d0e"
   },
   "outputs": [
    {
     "data": {
      "image/png": "[encoded data removed]",
      "text/plain": [
       "<Figure size 720x720 with 2 Axes>"
      ]
     },
     "execution_count": 189,
     "metadata": {
      "tags": []
     },
     "output_type": "execute_result"
    },
    {
     "data": {
      "image/png": "[encoded data removed]",
      "text/plain": [
       "<Figure size 720x720 with 2 Axes>"
      ]
     },
     "metadata": {
      "needs_background": "light",
      "tags": []
     },
     "output_type": "display_data"
    }
   ],
   "source": [
    "results.forecast(differenced.values[-lag:],60)\n",
    "results.plot_forecast(60)"
   ]
  },
  {
   "cell_type": "code",
   "execution_count": 190,
   "metadata": {
    "colab": {
     "base_uri": "https://localhost:8080/",
     "height": 359
    },
    "id": "x1VNw0uWj1nU",
    "outputId": "c080ca8d-e691-4f51-a097-13664a5f7c5e"
   },
   "outputs": [
    {
     "data": {
      "text/html": [
       "<div>\n",
       "<style scoped>\n",
       "    .dataframe tbody tr th:only-of-type {\n",
       "        vertical-align: middle;\n",
       "    }\n",
       "\n",
       "    .dataframe tbody tr th {\n",
       "        vertical-align: top;\n",
       "    }\n",
       "\n",
       "    .dataframe thead th {\n",
       "        text-align: right;\n",
       "    }\n",
       "</style>\n",
       "<table border=\"1\" class=\"dataframe\">\n",
       "  <thead>\n",
       "    <tr style=\"text-align: right;\">\n",
       "      <th></th>\n",
       "      <th>EXCHANGE RATE</th>\n",
       "      <th>INTEREST RATE</th>\n",
       "    </tr>\n",
       "    <tr>\n",
       "      <th>DATE</th>\n",
       "      <th></th>\n",
       "      <th></th>\n",
       "    </tr>\n",
       "  </thead>\n",
       "  <tbody>\n",
       "    <tr>\n",
       "      <th>2019-04-30</th>\n",
       "      <td>0.04</td>\n",
       "      <td>0.0</td>\n",
       "    </tr>\n",
       "    <tr>\n",
       "      <th>2019-05-31</th>\n",
       "      <td>-0.01</td>\n",
       "      <td>0.0</td>\n",
       "    </tr>\n",
       "    <tr>\n",
       "      <th>2019-06-30</th>\n",
       "      <td>-0.05</td>\n",
       "      <td>0.0</td>\n",
       "    </tr>\n",
       "    <tr>\n",
       "      <th>2019-07-31</th>\n",
       "      <td>-0.05</td>\n",
       "      <td>0.0</td>\n",
       "    </tr>\n",
       "    <tr>\n",
       "      <th>2019-08-31</th>\n",
       "      <td>0.15</td>\n",
       "      <td>0.0</td>\n",
       "    </tr>\n",
       "    <tr>\n",
       "      <th>2019-09-30</th>\n",
       "      <td>0.00</td>\n",
       "      <td>0.0</td>\n",
       "    </tr>\n",
       "    <tr>\n",
       "      <th>2019-10-31</th>\n",
       "      <td>0.00</td>\n",
       "      <td>0.0</td>\n",
       "    </tr>\n",
       "    <tr>\n",
       "      <th>2019-11-30</th>\n",
       "      <td>0.00</td>\n",
       "      <td>0.0</td>\n",
       "    </tr>\n",
       "    <tr>\n",
       "      <th>2019-12-31</th>\n",
       "      <td>0.00</td>\n",
       "      <td>0.0</td>\n",
       "    </tr>\n",
       "  </tbody>\n",
       "</table>\n",
       "</div>"
      ],
      "text/plain": [
       "            EXCHANGE RATE  INTEREST RATE\n",
       "DATE                                    \n",
       "2019-04-30           0.04            0.0\n",
       "2019-05-31          -0.01            0.0\n",
       "2019-06-30          -0.05            0.0\n",
       "2019-07-31          -0.05            0.0\n",
       "2019-08-31           0.15            0.0\n",
       "2019-09-30           0.00            0.0\n",
       "2019-10-31           0.00            0.0\n",
       "2019-11-30           0.00            0.0\n",
       "2019-12-31           0.00            0.0"
      ]
     },
     "execution_count": 190,
     "metadata": {
      "tags": []
     },
     "output_type": "execute_result"
    }
   ],
   "source": [
    "df_test[0:10]"
   ]
  },
  {
   "cell_type": "code",
   "execution_count": 191,
   "metadata": {
    "id": "FSxgS3Ncj8jk"
   },
   "outputs": [],
   "source": [
    "df_coeff=pd.DataFrame([results.params[\"EXCHANGE RATE\"],results.pvalues[\"EXCHANGE RATE\"]]).T"
   ]
  },
  {
   "cell_type": "code",
   "execution_count": 192,
   "metadata": {
    "colab": {
     "base_uri": "https://localhost:8080/",
     "height": 700
    },
    "id": "2IOW5wp-kji5",
    "outputId": "aeb0cdd9-f23f-4073-bf89-34b34cd677c0"
   },
   "outputs": [
    {
     "data": {
      "text/html": [
       "<div>\n",
       "<style scoped>\n",
       "    .dataframe tbody tr th:only-of-type {\n",
       "        vertical-align: middle;\n",
       "    }\n",
       "\n",
       "    .dataframe tbody tr th {\n",
       "        vertical-align: top;\n",
       "    }\n",
       "\n",
       "    .dataframe thead th {\n",
       "        text-align: right;\n",
       "    }\n",
       "</style>\n",
       "<table border=\"1\" class=\"dataframe\">\n",
       "  <thead>\n",
       "    <tr style=\"text-align: right;\">\n",
       "      <th></th>\n",
       "      <th>EXCHANGE RATE</th>\n",
       "      <th>EXCHANGE RATE</th>\n",
       "    </tr>\n",
       "  </thead>\n",
       "  <tbody>\n",
       "    <tr>\n",
       "      <th>const</th>\n",
       "      <td>1.198725</td>\n",
       "      <td>1.884306e-01</td>\n",
       "    </tr>\n",
       "    <tr>\n",
       "      <th>L1.EXCHANGE RATE</th>\n",
       "      <td>0.103112</td>\n",
       "      <td>4.948406e-01</td>\n",
       "    </tr>\n",
       "    <tr>\n",
       "      <th>L1.INTEREST RATE</th>\n",
       "      <td>1.241995</td>\n",
       "      <td>6.350500e-01</td>\n",
       "    </tr>\n",
       "    <tr>\n",
       "      <th>L2.EXCHANGE RATE</th>\n",
       "      <td>-0.204877</td>\n",
       "      <td>2.535426e-01</td>\n",
       "    </tr>\n",
       "    <tr>\n",
       "      <th>L2.INTEREST RATE</th>\n",
       "      <td>0.704135</td>\n",
       "      <td>7.836008e-01</td>\n",
       "    </tr>\n",
       "    <tr>\n",
       "      <th>L3.EXCHANGE RATE</th>\n",
       "      <td>-0.037983</td>\n",
       "      <td>7.620916e-01</td>\n",
       "    </tr>\n",
       "    <tr>\n",
       "      <th>L3.INTEREST RATE</th>\n",
       "      <td>4.494702</td>\n",
       "      <td>7.963128e-02</td>\n",
       "    </tr>\n",
       "    <tr>\n",
       "      <th>L4.EXCHANGE RATE</th>\n",
       "      <td>0.294897</td>\n",
       "      <td>8.329856e-03</td>\n",
       "    </tr>\n",
       "    <tr>\n",
       "      <th>L4.INTEREST RATE</th>\n",
       "      <td>-1.302897</td>\n",
       "      <td>6.226864e-01</td>\n",
       "    </tr>\n",
       "    <tr>\n",
       "      <th>L5.EXCHANGE RATE</th>\n",
       "      <td>0.054372</td>\n",
       "      <td>6.456683e-01</td>\n",
       "    </tr>\n",
       "    <tr>\n",
       "      <th>L5.INTEREST RATE</th>\n",
       "      <td>0.914616</td>\n",
       "      <td>7.540912e-01</td>\n",
       "    </tr>\n",
       "    <tr>\n",
       "      <th>L6.EXCHANGE RATE</th>\n",
       "      <td>-0.014170</td>\n",
       "      <td>9.036551e-01</td>\n",
       "    </tr>\n",
       "    <tr>\n",
       "      <th>L6.INTEREST RATE</th>\n",
       "      <td>-0.912662</td>\n",
       "      <td>7.534353e-01</td>\n",
       "    </tr>\n",
       "    <tr>\n",
       "      <th>L7.EXCHANGE RATE</th>\n",
       "      <td>0.095181</td>\n",
       "      <td>3.503965e-01</td>\n",
       "    </tr>\n",
       "    <tr>\n",
       "      <th>L7.INTEREST RATE</th>\n",
       "      <td>-33.606760</td>\n",
       "      <td>6.027884e-31</td>\n",
       "    </tr>\n",
       "    <tr>\n",
       "      <th>L8.EXCHANGE RATE</th>\n",
       "      <td>0.721340</td>\n",
       "      <td>3.014510e-13</td>\n",
       "    </tr>\n",
       "    <tr>\n",
       "      <th>L8.INTEREST RATE</th>\n",
       "      <td>-10.634171</td>\n",
       "      <td>6.745975e-02</td>\n",
       "    </tr>\n",
       "    <tr>\n",
       "      <th>L9.EXCHANGE RATE</th>\n",
       "      <td>-0.007091</td>\n",
       "      <td>9.613587e-01</td>\n",
       "    </tr>\n",
       "    <tr>\n",
       "      <th>L9.INTEREST RATE</th>\n",
       "      <td>-1.888042</td>\n",
       "      <td>7.565593e-01</td>\n",
       "    </tr>\n",
       "    <tr>\n",
       "      <th>L10.EXCHANGE RATE</th>\n",
       "      <td>0.086706</td>\n",
       "      <td>5.581468e-01</td>\n",
       "    </tr>\n",
       "    <tr>\n",
       "      <th>L10.INTEREST RATE</th>\n",
       "      <td>-3.594532</td>\n",
       "      <td>2.832676e-01</td>\n",
       "    </tr>\n",
       "  </tbody>\n",
       "</table>\n",
       "</div>"
      ],
      "text/plain": [
       "                   EXCHANGE RATE  EXCHANGE RATE\n",
       "const                   1.198725   1.884306e-01\n",
       "L1.EXCHANGE RATE        0.103112   4.948406e-01\n",
       "L1.INTEREST RATE        1.241995   6.350500e-01\n",
       "L2.EXCHANGE RATE       -0.204877   2.535426e-01\n",
       "L2.INTEREST RATE        0.704135   7.836008e-01\n",
       "L3.EXCHANGE RATE       -0.037983   7.620916e-01\n",
       "L3.INTEREST RATE        4.494702   7.963128e-02\n",
       "L4.EXCHANGE RATE        0.294897   8.329856e-03\n",
       "L4.INTEREST RATE       -1.302897   6.226864e-01\n",
       "L5.EXCHANGE RATE        0.054372   6.456683e-01\n",
       "L5.INTEREST RATE        0.914616   7.540912e-01\n",
       "L6.EXCHANGE RATE       -0.014170   9.036551e-01\n",
       "L6.INTEREST RATE       -0.912662   7.534353e-01\n",
       "L7.EXCHANGE RATE        0.095181   3.503965e-01\n",
       "L7.INTEREST RATE      -33.606760   6.027884e-31\n",
       "L8.EXCHANGE RATE        0.721340   3.014510e-13\n",
       "L8.INTEREST RATE      -10.634171   6.745975e-02\n",
       "L9.EXCHANGE RATE       -0.007091   9.613587e-01\n",
       "L9.INTEREST RATE       -1.888042   7.565593e-01\n",
       "L10.EXCHANGE RATE       0.086706   5.581468e-01\n",
       "L10.INTEREST RATE      -3.594532   2.832676e-01"
      ]
     },
     "execution_count": 192,
     "metadata": {
      "tags": []
     },
     "output_type": "execute_result"
    }
   ],
   "source": [
    "df_coeff"
   ]
  },
  {
   "cell_type": "code",
   "execution_count": 193,
   "metadata": {
    "id": "8DLl7bCSkoMn"
   },
   "outputs": [],
   "source": [
    "df_coeff.columns = [\"coeff\",\"pval\"]"
   ]
  },
  {
   "cell_type": "code",
   "execution_count": 194,
   "metadata": {
    "colab": {
     "base_uri": "https://localhost:8080/"
    },
    "id": "PQ3-d6A7lDqg",
    "outputId": "8f69d1e9-df3f-45f4-d117-04f744c5be53"
   },
   "outputs": [
    {
     "data": {
      "text/plain": [
       "array([0, 0, 0, 0, 0, 0, 0, 1, 0, 0, 0, 0, 0, 0, 1, 1, 0, 0, 0, 0, 0])"
      ]
     },
     "execution_count": 194,
     "metadata": {
      "tags": []
     },
     "output_type": "execute_result"
    }
   ],
   "source": [
    "df_coeff.query(\"pval < 0.05\")\n",
    "np.where(df_coeff[\"pval\"]<0.05,1,0)"
   ]
  },
  {
   "cell_type": "code",
   "execution_count": 195,
   "metadata": {
    "id": "sVHlkilolWIN"
   },
   "outputs": [],
   "source": [
    "df_coeff[\"valid\"]=np.where(df_coeff[\"pval\"]< 0.05,1,0)"
   ]
  },
  {
   "cell_type": "code",
   "execution_count": 196,
   "metadata": {
    "colab": {
     "base_uri": "https://localhost:8080/",
     "height": 700
    },
    "id": "gmJE7oAWlx32",
    "outputId": "55039b13-b9c8-49d1-dbef-c3021c61d31e"
   },
   "outputs": [
    {
     "data": {
      "text/html": [
       "<div>\n",
       "<style scoped>\n",
       "    .dataframe tbody tr th:only-of-type {\n",
       "        vertical-align: middle;\n",
       "    }\n",
       "\n",
       "    .dataframe tbody tr th {\n",
       "        vertical-align: top;\n",
       "    }\n",
       "\n",
       "    .dataframe thead th {\n",
       "        text-align: right;\n",
       "    }\n",
       "</style>\n",
       "<table border=\"1\" class=\"dataframe\">\n",
       "  <thead>\n",
       "    <tr style=\"text-align: right;\">\n",
       "      <th></th>\n",
       "      <th>coeff</th>\n",
       "      <th>pval</th>\n",
       "      <th>valid</th>\n",
       "    </tr>\n",
       "  </thead>\n",
       "  <tbody>\n",
       "    <tr>\n",
       "      <th>const</th>\n",
       "      <td>1.198725</td>\n",
       "      <td>1.884306e-01</td>\n",
       "      <td>0</td>\n",
       "    </tr>\n",
       "    <tr>\n",
       "      <th>L1.EXCHANGE RATE</th>\n",
       "      <td>0.103112</td>\n",
       "      <td>4.948406e-01</td>\n",
       "      <td>0</td>\n",
       "    </tr>\n",
       "    <tr>\n",
       "      <th>L1.INTEREST RATE</th>\n",
       "      <td>1.241995</td>\n",
       "      <td>6.350500e-01</td>\n",
       "      <td>0</td>\n",
       "    </tr>\n",
       "    <tr>\n",
       "      <th>L2.EXCHANGE RATE</th>\n",
       "      <td>-0.204877</td>\n",
       "      <td>2.535426e-01</td>\n",
       "      <td>0</td>\n",
       "    </tr>\n",
       "    <tr>\n",
       "      <th>L2.INTEREST RATE</th>\n",
       "      <td>0.704135</td>\n",
       "      <td>7.836008e-01</td>\n",
       "      <td>0</td>\n",
       "    </tr>\n",
       "    <tr>\n",
       "      <th>L3.EXCHANGE RATE</th>\n",
       "      <td>-0.037983</td>\n",
       "      <td>7.620916e-01</td>\n",
       "      <td>0</td>\n",
       "    </tr>\n",
       "    <tr>\n",
       "      <th>L3.INTEREST RATE</th>\n",
       "      <td>4.494702</td>\n",
       "      <td>7.963128e-02</td>\n",
       "      <td>0</td>\n",
       "    </tr>\n",
       "    <tr>\n",
       "      <th>L4.EXCHANGE RATE</th>\n",
       "      <td>0.294897</td>\n",
       "      <td>8.329856e-03</td>\n",
       "      <td>1</td>\n",
       "    </tr>\n",
       "    <tr>\n",
       "      <th>L4.INTEREST RATE</th>\n",
       "      <td>-1.302897</td>\n",
       "      <td>6.226864e-01</td>\n",
       "      <td>0</td>\n",
       "    </tr>\n",
       "    <tr>\n",
       "      <th>L5.EXCHANGE RATE</th>\n",
       "      <td>0.054372</td>\n",
       "      <td>6.456683e-01</td>\n",
       "      <td>0</td>\n",
       "    </tr>\n",
       "    <tr>\n",
       "      <th>L5.INTEREST RATE</th>\n",
       "      <td>0.914616</td>\n",
       "      <td>7.540912e-01</td>\n",
       "      <td>0</td>\n",
       "    </tr>\n",
       "    <tr>\n",
       "      <th>L6.EXCHANGE RATE</th>\n",
       "      <td>-0.014170</td>\n",
       "      <td>9.036551e-01</td>\n",
       "      <td>0</td>\n",
       "    </tr>\n",
       "    <tr>\n",
       "      <th>L6.INTEREST RATE</th>\n",
       "      <td>-0.912662</td>\n",
       "      <td>7.534353e-01</td>\n",
       "      <td>0</td>\n",
       "    </tr>\n",
       "    <tr>\n",
       "      <th>L7.EXCHANGE RATE</th>\n",
       "      <td>0.095181</td>\n",
       "      <td>3.503965e-01</td>\n",
       "      <td>0</td>\n",
       "    </tr>\n",
       "    <tr>\n",
       "      <th>L7.INTEREST RATE</th>\n",
       "      <td>-33.606760</td>\n",
       "      <td>6.027884e-31</td>\n",
       "      <td>1</td>\n",
       "    </tr>\n",
       "    <tr>\n",
       "      <th>L8.EXCHANGE RATE</th>\n",
       "      <td>0.721340</td>\n",
       "      <td>3.014510e-13</td>\n",
       "      <td>1</td>\n",
       "    </tr>\n",
       "    <tr>\n",
       "      <th>L8.INTEREST RATE</th>\n",
       "      <td>-10.634171</td>\n",
       "      <td>6.745975e-02</td>\n",
       "      <td>0</td>\n",
       "    </tr>\n",
       "    <tr>\n",
       "      <th>L9.EXCHANGE RATE</th>\n",
       "      <td>-0.007091</td>\n",
       "      <td>9.613587e-01</td>\n",
       "      <td>0</td>\n",
       "    </tr>\n",
       "    <tr>\n",
       "      <th>L9.INTEREST RATE</th>\n",
       "      <td>-1.888042</td>\n",
       "      <td>7.565593e-01</td>\n",
       "      <td>0</td>\n",
       "    </tr>\n",
       "    <tr>\n",
       "      <th>L10.EXCHANGE RATE</th>\n",
       "      <td>0.086706</td>\n",
       "      <td>5.581468e-01</td>\n",
       "      <td>0</td>\n",
       "    </tr>\n",
       "    <tr>\n",
       "      <th>L10.INTEREST RATE</th>\n",
       "      <td>-3.594532</td>\n",
       "      <td>2.832676e-01</td>\n",
       "      <td>0</td>\n",
       "    </tr>\n",
       "  </tbody>\n",
       "</table>\n",
       "</div>"
      ],
      "text/plain": [
       "                       coeff          pval  valid\n",
       "const               1.198725  1.884306e-01      0\n",
       "L1.EXCHANGE RATE    0.103112  4.948406e-01      0\n",
       "L1.INTEREST RATE    1.241995  6.350500e-01      0\n",
       "L2.EXCHANGE RATE   -0.204877  2.535426e-01      0\n",
       "L2.INTEREST RATE    0.704135  7.836008e-01      0\n",
       "L3.EXCHANGE RATE   -0.037983  7.620916e-01      0\n",
       "L3.INTEREST RATE    4.494702  7.963128e-02      0\n",
       "L4.EXCHANGE RATE    0.294897  8.329856e-03      1\n",
       "L4.INTEREST RATE   -1.302897  6.226864e-01      0\n",
       "L5.EXCHANGE RATE    0.054372  6.456683e-01      0\n",
       "L5.INTEREST RATE    0.914616  7.540912e-01      0\n",
       "L6.EXCHANGE RATE   -0.014170  9.036551e-01      0\n",
       "L6.INTEREST RATE   -0.912662  7.534353e-01      0\n",
       "L7.EXCHANGE RATE    0.095181  3.503965e-01      0\n",
       "L7.INTEREST RATE  -33.606760  6.027884e-31      1\n",
       "L8.EXCHANGE RATE    0.721340  3.014510e-13      1\n",
       "L8.INTEREST RATE  -10.634171  6.745975e-02      0\n",
       "L9.EXCHANGE RATE   -0.007091  9.613587e-01      0\n",
       "L9.INTEREST RATE   -1.888042  7.565593e-01      0\n",
       "L10.EXCHANGE RATE   0.086706  5.581468e-01      0\n",
       "L10.INTEREST RATE  -3.594532  2.832676e-01      0"
      ]
     },
     "execution_count": 196,
     "metadata": {
      "tags": []
     },
     "output_type": "execute_result"
    }
   ],
   "source": [
    "df_coeff"
   ]
  },
  {
   "cell_type": "code",
   "execution_count": 197,
   "metadata": {
    "id": "LVvKBWKgl9vy"
   },
   "outputs": [],
   "source": [
    "coeff_arr=df_coeff[\"coeff\"][1:].values"
   ]
  },
  {
   "cell_type": "code",
   "execution_count": 198,
   "metadata": {
    "colab": {
     "base_uri": "https://localhost:8080/"
    },
    "id": "NP_ZKq9Qmg2Q",
    "outputId": "399806e0-076b-4661-bc8b-1adf26663b35"
   },
   "outputs": [
    {
     "data": {
      "text/plain": [
       "(20,)"
      ]
     },
     "execution_count": 198,
     "metadata": {
      "tags": []
     },
     "output_type": "execute_result"
    }
   ],
   "source": [
    "coeff_arr.shape"
   ]
  },
  {
   "cell_type": "code",
   "execution_count": 199,
   "metadata": {
    "colab": {
     "base_uri": "https://localhost:8080/"
    },
    "id": "wmD3P4nvmkNz",
    "outputId": "b9d6b2a2-2cd8-41ff-ec6d-32a618ab6c47"
   },
   "outputs": [
    {
     "data": {
      "text/plain": [
       "array([ 1.03111719e-01,  1.24199507e+00, -2.04876884e-01,  7.04135181e-01,\n",
       "       -3.79829336e-02,  4.49470221e+00,  2.94896654e-01, -1.30289726e+00,\n",
       "        5.43723905e-02,  9.14616108e-01, -1.41695297e-02, -9.12661623e-01,\n",
       "        9.51814680e-02, -3.36067603e+01,  7.21339852e-01, -1.06341713e+01,\n",
       "       -7.09144323e-03, -1.88804248e+00,  8.67056308e-02, -3.59453210e+00])"
      ]
     },
     "execution_count": 199,
     "metadata": {
      "tags": []
     },
     "output_type": "execute_result"
    }
   ],
   "source": [
    "coeff_arr"
   ]
  },
  {
   "cell_type": "code",
   "execution_count": 200,
   "metadata": {
    "colab": {
     "base_uri": "https://localhost:8080/",
     "height": 390
    },
    "id": "QVKEPjpUmn-d",
    "outputId": "5f5a43dd-29f7-4dbb-f833-a24ea5cb190a"
   },
   "outputs": [
    {
     "data": {
      "text/html": [
       "<div>\n",
       "<style scoped>\n",
       "    .dataframe tbody tr th:only-of-type {\n",
       "        vertical-align: middle;\n",
       "    }\n",
       "\n",
       "    .dataframe tbody tr th {\n",
       "        vertical-align: top;\n",
       "    }\n",
       "\n",
       "    .dataframe thead th {\n",
       "        text-align: right;\n",
       "    }\n",
       "</style>\n",
       "<table border=\"1\" class=\"dataframe\">\n",
       "  <thead>\n",
       "    <tr style=\"text-align: right;\">\n",
       "      <th></th>\n",
       "      <th>EXCHANGE RATE</th>\n",
       "      <th>INTEREST RATE</th>\n",
       "    </tr>\n",
       "    <tr>\n",
       "      <th>DATE</th>\n",
       "      <th></th>\n",
       "      <th></th>\n",
       "    </tr>\n",
       "  </thead>\n",
       "  <tbody>\n",
       "    <tr>\n",
       "      <th>2018-06-30</th>\n",
       "      <td>-0.20</td>\n",
       "      <td>0.0</td>\n",
       "    </tr>\n",
       "    <tr>\n",
       "      <th>2018-07-31</th>\n",
       "      <td>0.15</td>\n",
       "      <td>0.0</td>\n",
       "    </tr>\n",
       "    <tr>\n",
       "      <th>2018-08-31</th>\n",
       "      <td>0.25</td>\n",
       "      <td>0.0</td>\n",
       "    </tr>\n",
       "    <tr>\n",
       "      <th>2018-09-30</th>\n",
       "      <td>0.20</td>\n",
       "      <td>0.0</td>\n",
       "    </tr>\n",
       "    <tr>\n",
       "      <th>2018-10-31</th>\n",
       "      <td>0.00</td>\n",
       "      <td>0.0</td>\n",
       "    </tr>\n",
       "    <tr>\n",
       "      <th>2018-11-30</th>\n",
       "      <td>0.45</td>\n",
       "      <td>0.0</td>\n",
       "    </tr>\n",
       "    <tr>\n",
       "      <th>2018-12-31</th>\n",
       "      <td>0.20</td>\n",
       "      <td>0.0</td>\n",
       "    </tr>\n",
       "    <tr>\n",
       "      <th>2019-01-31</th>\n",
       "      <td>-0.25</td>\n",
       "      <td>0.0</td>\n",
       "    </tr>\n",
       "    <tr>\n",
       "      <th>2019-02-28</th>\n",
       "      <td>0.02</td>\n",
       "      <td>0.0</td>\n",
       "    </tr>\n",
       "    <tr>\n",
       "      <th>2019-03-31</th>\n",
       "      <td>0.15</td>\n",
       "      <td>-0.5</td>\n",
       "    </tr>\n",
       "  </tbody>\n",
       "</table>\n",
       "</div>"
      ],
      "text/plain": [
       "            EXCHANGE RATE  INTEREST RATE\n",
       "DATE                                    \n",
       "2018-06-30          -0.20            0.0\n",
       "2018-07-31           0.15            0.0\n",
       "2018-08-31           0.25            0.0\n",
       "2018-09-30           0.20            0.0\n",
       "2018-10-31           0.00            0.0\n",
       "2018-11-30           0.45            0.0\n",
       "2018-12-31           0.20            0.0\n",
       "2019-01-31          -0.25            0.0\n",
       "2019-02-28           0.02            0.0\n",
       "2019-03-31           0.15           -0.5"
      ]
     },
     "execution_count": 200,
     "metadata": {
      "tags": []
     },
     "output_type": "execute_result"
    }
   ],
   "source": [
    "df_train[-lag:]"
   ]
  },
  {
   "cell_type": "code",
   "execution_count": 205,
   "metadata": {
    "id": "uUaP_z-Umtj1"
   },
   "outputs": [],
   "source": [
    "in_arr=df_train[-lag:][::-1].stack().to_frame().T.values"
   ]
  },
  {
   "cell_type": "code",
   "execution_count": 206,
   "metadata": {
    "colab": {
     "base_uri": "https://localhost:8080/"
    },
    "id": "0xTeYi0znCe_",
    "outputId": "fd9dc7b8-3f6d-486a-c1fb-81ede2679c13"
   },
   "outputs": [
    {
     "data": {
      "text/plain": [
       "(1, 20)"
      ]
     },
     "execution_count": 206,
     "metadata": {
      "tags": []
     },
     "output_type": "execute_result"
    }
   ],
   "source": [
    "in_arr.shape"
   ]
  },
  {
   "cell_type": "code",
   "execution_count": 207,
   "metadata": {
    "colab": {
     "base_uri": "https://localhost:8080/"
    },
    "id": "_-Y3AYaXnE0N",
    "outputId": "dbad44bc-1688-4321-88cc-706f9692aee3"
   },
   "outputs": [
    {
     "data": {
      "text/plain": [
       "array([[ 0.15, -0.5 ,  0.02,  0.  , -0.25,  0.  ,  0.2 ,  0.  ,  0.45,\n",
       "         0.  ,  0.  ,  0.  ,  0.2 ,  0.  ,  0.25,  0.  ,  0.15,  0.  ,\n",
       "        -0.2 ,  0.  ]])"
      ]
     },
     "execution_count": 207,
     "metadata": {
      "tags": []
     },
     "output_type": "execute_result"
    }
   ],
   "source": [
    "in_arr"
   ]
  },
  {
   "cell_type": "code",
   "execution_count": 208,
   "metadata": {
    "colab": {
     "base_uri": "https://localhost:8080/"
    },
    "id": "uhV9eeG5nNui",
    "outputId": "1b904e91-f33b-4c48-d8e5-3831fbdad95c"
   },
   "outputs": [
    {
     "data": {
      "text/plain": [
       "array([  0.86300606,  -0.23260754,   0.90627581,  -0.54059614,\n",
       "         0.36841592,  -0.37370219,   4.15898295,  -0.04082261,\n",
       "        -1.63861651,  -0.28134687,   0.57889685,  -0.34988879,\n",
       "        -1.24838088,  -0.24053779, -33.94247951,   0.38562059,\n",
       "       -10.96989059,  -0.3428107 ,  -2.22376174,  -0.24901363,\n",
       "        -3.93025136])"
      ]
     },
     "execution_count": 208,
     "metadata": {
      "tags": []
     },
     "output_type": "execute_result"
    }
   ],
   "source": [
    "np.dot(in_arr, coeff_arr)+df_coeff[\"coeff\"][:].values"
   ]
  },
  {
   "cell_type": "code",
   "execution_count": 208,
   "metadata": {
    "id": "id7Lls2VnjZv"
   },
   "outputs": [],
   "source": []
  }
 ],
 "metadata": {
  "colab": {
   "collapsed_sections": [],
   "name": "Untitled3.ipynb",
   "provenance": []
  },
  "kernelspec": {
   "display_name": "Python 3 (ipykernel)",
   "language": "python",
   "name": "python3"
  },
  "language_info": {
   "codemirror_mode": {
    "name": "ipython",
    "version": 3
   },
   "file_extension": ".py",
   "mimetype": "text/x-python",
   "name": "python",
   "nbconvert_exporter": "python",
   "pygments_lexer": "ipython3",
   "version": "3.10.9"
  }
 },
 "nbformat": 4,
 "nbformat_minor": 1
}
